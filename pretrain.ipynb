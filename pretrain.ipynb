{
  "nbformat": 4,
  "nbformat_minor": 0,
  "metadata": {
    "colab": {
      "name": "RL4MHQA_pretrain.ipynb",
      "provenance": [],
      "collapsed_sections": []
    },
    "kernelspec": {
      "name": "python3",
      "display_name": "Python 3"
    },
    "accelerator": "GPU"
  },
  "cells": [
    {
      "cell_type": "code",
      "metadata": {
        "colab": {
          "base_uri": "https://localhost:8080/"
        },
        "id": "HrQDjKhBo-RH",
        "outputId": "91553764-ac81-4b23-cd55-9303adea3283"
      },
      "source": [
        "from google.colab import drive\n",
        "drive.mount('/content/drive')"
      ],
      "execution_count": null,
      "outputs": [
        {
          "output_type": "stream",
          "text": [
            "Mounted at /content/drive\n"
          ],
          "name": "stdout"
        }
      ]
    },
    {
      "cell_type": "code",
      "metadata": {
        "id": "MQKCKs6W50xv"
      },
      "source": [
        "! pip install -r drive/MyDrive/Diploma/requirements.txt >& /dev/null"
      ],
      "execution_count": null,
      "outputs": []
    },
    {
      "cell_type": "code",
      "metadata": {
        "colab": {
          "base_uri": "https://localhost:8080/"
        },
        "id": "-Zegly_co5ch",
        "outputId": "c8199428-2f0b-4921-8258-64d963bf1489"
      },
      "source": [
        "! nvidia-smi"
      ],
      "execution_count": null,
      "outputs": [
        {
          "output_type": "stream",
          "text": [
            "Sun May 16 21:29:46 2021       \n",
            "+-----------------------------------------------------------------------------+\n",
            "| NVIDIA-SMI 465.19.01    Driver Version: 460.32.03    CUDA Version: 11.2     |\n",
            "|-------------------------------+----------------------+----------------------+\n",
            "| GPU  Name        Persistence-M| Bus-Id        Disp.A | Volatile Uncorr. ECC |\n",
            "| Fan  Temp  Perf  Pwr:Usage/Cap|         Memory-Usage | GPU-Util  Compute M. |\n",
            "|                               |                      |               MIG M. |\n",
            "|===============================+======================+======================|\n",
            "|   0  Tesla T4            Off  | 00000000:00:04.0 Off |                    0 |\n",
            "| N/A   39C    P8     9W /  70W |      0MiB / 15109MiB |      0%      Default |\n",
            "|                               |                      |                  N/A |\n",
            "+-------------------------------+----------------------+----------------------+\n",
            "                                                                               \n",
            "+-----------------------------------------------------------------------------+\n",
            "| Processes:                                                                  |\n",
            "|  GPU   GI   CI        PID   Type   Process name                  GPU Memory |\n",
            "|        ID   ID                                                   Usage      |\n",
            "|=============================================================================|\n",
            "|  No running processes found                                                 |\n",
            "+-----------------------------------------------------------------------------+\n"
          ],
          "name": "stdout"
        }
      ]
    },
    {
      "cell_type": "code",
      "metadata": {
        "id": "1upJ0InTBfYQ"
      },
      "source": [
        "import numpy as np\n",
        "import torch\n",
        "from torch import nn\n",
        "\n",
        "import wandb\n",
        "\n",
        "\n",
        "from tqdm.notebook import tqdm\n",
        "\n",
        "from drive.MyDrive.Diploma.environment import KGEnv\n",
        "from drive.MyDrive.Diploma.utils import (\n",
        "    create_test_dataset, create_random_dataset,\n",
        "    create_model, read_dataset_from_file, LabelSmoothingCrossEntropy,\n",
        "    load_config\n",
        ")\n",
        "from drive.MyDrive.Diploma.dataset import KGDataset\n",
        "from drive.MyDrive.Diploma.pretrain import evaluate, pretrain\n",
        "from drive.MyDrive.Diploma.beam_search import get_ranks\n",
        "from drive.MyDrive.Diploma.metrics import *\n",
        "\n",
        "from drive.MyDrive.Diploma.load_config import config\n",
        "\n",
        "%load_ext autoreload\n",
        "%autoreload 2\n",
        "\n",
        "device = torch.device('cuda' if torch.cuda.is_available() else 'cpu')"
      ],
      "execution_count": null,
      "outputs": []
    },
    {
      "cell_type": "code",
      "metadata": {
        "id": "eh4LA_RUjYkV"
      },
      "source": [
        "env = KGEnv(config['train_triplets_path'])\n",
        "\n",
        "entities_num = env.entities_num\n",
        "relations_num = env.relations_num"
      ],
      "execution_count": null,
      "outputs": []
    },
    {
      "cell_type": "code",
      "metadata": {
        "id": "cqJA4S_DonkF"
      },
      "source": [
        "train_env = KGEnv(config['train_triplets_path'], batch_size=1)\n",
        "test_env = KGEnv(config['test_triplets_path'], train=False, batch_size=1)"
      ],
      "execution_count": null,
      "outputs": []
    },
    {
      "cell_type": "code",
      "metadata": {
        "id": "sgiqFxLutkK_"
      },
      "source": [
        "train_dataset = create_random_dataset(train_env, out_file='drive/MyDrive/Diploma/kinship/train_dataset.txt', size=30000)"
      ],
      "execution_count": null,
      "outputs": []
    },
    {
      "cell_type": "code",
      "metadata": {
        "id": "TrU9y1NJ0H-U"
      },
      "source": [
        "test_dataset = create_test_dataset(train_env, test_env, out_file='drive/MyDrive/Diploma/kinship/test_dataset.txt')"
      ],
      "execution_count": null,
      "outputs": []
    },
    {
      "cell_type": "code",
      "metadata": {
        "id": "0EFI-5ij7fWY"
      },
      "source": [
        "train_dataset = read_dataset_from_file('/content/drive/MyDrive/Diploma/kinship/train_dataset.txt', 50)\n",
        "test_dataset = read_dataset_from_file('/content/drive/MyDrive/Diploma/kinship/test_dataset.txt', 50)"
      ],
      "execution_count": null,
      "outputs": []
    },
    {
      "cell_type": "code",
      "metadata": {
        "id": "fZxWtY15yVxR"
      },
      "source": [
        "train_kg_dataset = KGDataset(train_dataset, train_env, shuffle=False)\n",
        "test_kg_dataset = KGDataset(test_dataset, test_env, shuffle=False)"
      ],
      "execution_count": null,
      "outputs": []
    },
    {
      "cell_type": "code",
      "metadata": {
        "id": "P6SZ5RCMjsv5"
      },
      "source": [
        "model = create_model(\n",
        "    entity_input_dim=entities_num + 1,  # pad\n",
        "    relation_input_dim=relations_num + 2,  # cls + pad\n",
        "    output_dim=relations_num,\n",
        "    entity_pad_idx=train_env.e_pad_idx,\n",
        "    relation_pad_idx=train_env.r_pad_idx,\n",
        "    hid_dim=128,\n",
        "    enc_pf_dim=256,\n",
        "    device=device\n",
        ")\n",
        "optimizer = torch.optim.Adam(model.parameters(), lr=0.001)\n",
        "criterion = LabelSmoothingCrossEntropy()"
      ],
      "execution_count": null,
      "outputs": []
    },
    {
      "cell_type": "code",
      "metadata": {
        "id": "Zpk-DD8hpI44"
      },
      "source": [
        "wandb.init(project=\"RL4KGQA\", name=\"Pretrain\")"
      ],
      "execution_count": null,
      "outputs": []
    },
    {
      "cell_type": "code",
      "metadata": {
        "id": "R21T7DC5v6oC"
      },
      "source": [
        "train_env = KGEnv(config['train_triplets_path'], batch_size=256)\n",
        "test_env = KGEnv(config['train_triplets_path'], batch_size=64)"
      ],
      "execution_count": null,
      "outputs": []
    },
    {
      "cell_type": "code",
      "metadata": {
        "id": "xX-Yp_WtnCN3"
      },
      "source": [
        "for epoch in tqdm(range(config['num_epochs'])):\n",
        "    train_loss, train_accuracy = pretrain(model, train_kg_dataset, optimizer, criterion, train_env)\n",
        "    test_loss, test_accuracy = evaluate(model, test_kg_dataset, criterion, test_env)\n",
        "\n",
        "    wandb.log({\"Train CE loss\": train_loss,\n",
        "               \"Train accuracy\": train_accuracy,\n",
        "               \"Test CE loss\": test_loss,\n",
        "               \"Test accuracy\": test_accuracy})"
      ],
      "execution_count": null,
      "outputs": []
    },
    {
      "cell_type": "code",
      "metadata": {
        "id": "tC1GSEWXwoZ-"
      },
      "source": [
        "torch.save(model.state_dict(), 'drive/MyDrive/Diploma/models/pretrained_agent.pt')"
      ],
      "execution_count": null,
      "outputs": []
    }
  ]
}