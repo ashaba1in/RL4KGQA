{
  "nbformat": 4,
  "nbformat_minor": 0,
  "metadata": {
    "colab": {
      "name": "RL4MHQA_train_emb.ipynb",
      "provenance": [],
      "collapsed_sections": []
    },
    "kernelspec": {
      "name": "python3",
      "display_name": "Python 3"
    },
    "language_info": {
      "name": "python"
    },
    "accelerator": "GPU",
    "widgets": {
      "application/vnd.jupyter.widget-state+json": {
        "2430d8a45736459bb5dc7be5e160af2a": {
          "model_module": "@jupyter-widgets/controls",
          "model_name": "HBoxModel",
          "state": {
            "_view_name": "HBoxView",
            "_dom_classes": [],
            "_model_name": "HBoxModel",
            "_view_module": "@jupyter-widgets/controls",
            "_model_module_version": "1.5.0",
            "_view_count": null,
            "_view_module_version": "1.5.0",
            "box_style": "",
            "layout": "IPY_MODEL_a348d281a88e4ac8bbc3e5da2019f1cb",
            "_model_module": "@jupyter-widgets/controls",
            "children": [
              "IPY_MODEL_0bf3e57be54a47909676800877f69054",
              "IPY_MODEL_23666737bd14478fb9cffa3dfc802c94"
            ]
          }
        },
        "a348d281a88e4ac8bbc3e5da2019f1cb": {
          "model_module": "@jupyter-widgets/base",
          "model_name": "LayoutModel",
          "state": {
            "_view_name": "LayoutView",
            "grid_template_rows": null,
            "right": null,
            "justify_content": null,
            "_view_module": "@jupyter-widgets/base",
            "overflow": null,
            "_model_module_version": "1.2.0",
            "_view_count": null,
            "flex_flow": null,
            "width": null,
            "min_width": null,
            "border": null,
            "align_items": null,
            "bottom": null,
            "_model_module": "@jupyter-widgets/base",
            "top": null,
            "grid_column": null,
            "overflow_y": null,
            "overflow_x": null,
            "grid_auto_flow": null,
            "grid_area": null,
            "grid_template_columns": null,
            "flex": null,
            "_model_name": "LayoutModel",
            "justify_items": null,
            "grid_row": null,
            "max_height": null,
            "align_content": null,
            "visibility": null,
            "align_self": null,
            "height": null,
            "min_height": null,
            "padding": null,
            "grid_auto_rows": null,
            "grid_gap": null,
            "max_width": null,
            "order": null,
            "_view_module_version": "1.2.0",
            "grid_template_areas": null,
            "object_position": null,
            "object_fit": null,
            "grid_auto_columns": null,
            "margin": null,
            "display": null,
            "left": null
          }
        },
        "0bf3e57be54a47909676800877f69054": {
          "model_module": "@jupyter-widgets/controls",
          "model_name": "FloatProgressModel",
          "state": {
            "_view_name": "ProgressView",
            "style": "IPY_MODEL_939836c3ee4148adbdfbaf73af8e4f09",
            "_dom_classes": [],
            "description": "100%",
            "_model_name": "FloatProgressModel",
            "bar_style": "success",
            "max": 200,
            "_view_module": "@jupyter-widgets/controls",
            "_model_module_version": "1.5.0",
            "value": 200,
            "_view_count": null,
            "_view_module_version": "1.5.0",
            "orientation": "horizontal",
            "min": 0,
            "description_tooltip": null,
            "_model_module": "@jupyter-widgets/controls",
            "layout": "IPY_MODEL_d05f3865fe7c43b3b5ce8ae840504326"
          }
        },
        "23666737bd14478fb9cffa3dfc802c94": {
          "model_module": "@jupyter-widgets/controls",
          "model_name": "HTMLModel",
          "state": {
            "_view_name": "HTMLView",
            "style": "IPY_MODEL_8d2b829b4e044fba87a49f1dd0aa4541",
            "_dom_classes": [],
            "description": "",
            "_model_name": "HTMLModel",
            "placeholder": "​",
            "_view_module": "@jupyter-widgets/controls",
            "_model_module_version": "1.5.0",
            "value": " 200/200 [00:50&lt;00:00,  3.92it/s]",
            "_view_count": null,
            "_view_module_version": "1.5.0",
            "description_tooltip": null,
            "_model_module": "@jupyter-widgets/controls",
            "layout": "IPY_MODEL_be55de154a8249d285aff76bf6482526"
          }
        },
        "939836c3ee4148adbdfbaf73af8e4f09": {
          "model_module": "@jupyter-widgets/controls",
          "model_name": "ProgressStyleModel",
          "state": {
            "_view_name": "StyleView",
            "_model_name": "ProgressStyleModel",
            "description_width": "initial",
            "_view_module": "@jupyter-widgets/base",
            "_model_module_version": "1.5.0",
            "_view_count": null,
            "_view_module_version": "1.2.0",
            "bar_color": null,
            "_model_module": "@jupyter-widgets/controls"
          }
        },
        "d05f3865fe7c43b3b5ce8ae840504326": {
          "model_module": "@jupyter-widgets/base",
          "model_name": "LayoutModel",
          "state": {
            "_view_name": "LayoutView",
            "grid_template_rows": null,
            "right": null,
            "justify_content": null,
            "_view_module": "@jupyter-widgets/base",
            "overflow": null,
            "_model_module_version": "1.2.0",
            "_view_count": null,
            "flex_flow": null,
            "width": null,
            "min_width": null,
            "border": null,
            "align_items": null,
            "bottom": null,
            "_model_module": "@jupyter-widgets/base",
            "top": null,
            "grid_column": null,
            "overflow_y": null,
            "overflow_x": null,
            "grid_auto_flow": null,
            "grid_area": null,
            "grid_template_columns": null,
            "flex": null,
            "_model_name": "LayoutModel",
            "justify_items": null,
            "grid_row": null,
            "max_height": null,
            "align_content": null,
            "visibility": null,
            "align_self": null,
            "height": null,
            "min_height": null,
            "padding": null,
            "grid_auto_rows": null,
            "grid_gap": null,
            "max_width": null,
            "order": null,
            "_view_module_version": "1.2.0",
            "grid_template_areas": null,
            "object_position": null,
            "object_fit": null,
            "grid_auto_columns": null,
            "margin": null,
            "display": null,
            "left": null
          }
        },
        "8d2b829b4e044fba87a49f1dd0aa4541": {
          "model_module": "@jupyter-widgets/controls",
          "model_name": "DescriptionStyleModel",
          "state": {
            "_view_name": "StyleView",
            "_model_name": "DescriptionStyleModel",
            "description_width": "",
            "_view_module": "@jupyter-widgets/base",
            "_model_module_version": "1.5.0",
            "_view_count": null,
            "_view_module_version": "1.2.0",
            "_model_module": "@jupyter-widgets/controls"
          }
        },
        "be55de154a8249d285aff76bf6482526": {
          "model_module": "@jupyter-widgets/base",
          "model_name": "LayoutModel",
          "state": {
            "_view_name": "LayoutView",
            "grid_template_rows": null,
            "right": null,
            "justify_content": null,
            "_view_module": "@jupyter-widgets/base",
            "overflow": null,
            "_model_module_version": "1.2.0",
            "_view_count": null,
            "flex_flow": null,
            "width": null,
            "min_width": null,
            "border": null,
            "align_items": null,
            "bottom": null,
            "_model_module": "@jupyter-widgets/base",
            "top": null,
            "grid_column": null,
            "overflow_y": null,
            "overflow_x": null,
            "grid_auto_flow": null,
            "grid_area": null,
            "grid_template_columns": null,
            "flex": null,
            "_model_name": "LayoutModel",
            "justify_items": null,
            "grid_row": null,
            "max_height": null,
            "align_content": null,
            "visibility": null,
            "align_self": null,
            "height": null,
            "min_height": null,
            "padding": null,
            "grid_auto_rows": null,
            "grid_gap": null,
            "max_width": null,
            "order": null,
            "_view_module_version": "1.2.0",
            "grid_template_areas": null,
            "object_position": null,
            "object_fit": null,
            "grid_auto_columns": null,
            "margin": null,
            "display": null,
            "left": null
          }
        }
      }
    }
  },
  "cells": [
    {
      "cell_type": "code",
      "metadata": {
        "id": "MQKCKs6W50xv"
      },
      "source": [
        "! pip install -r drive/MyDrive/Diploma/requirements.txt >& /dev/null"
      ],
      "execution_count": null,
      "outputs": []
    },
    {
      "cell_type": "code",
      "metadata": {
        "colab": {
          "base_uri": "https://localhost:8080/"
        },
        "id": "-Zegly_co5ch",
        "outputId": "3d3d4ac0-43b9-4a1d-82c0-6f75aa2e5831"
      },
      "source": [
        "! nvidia-smi"
      ],
      "execution_count": null,
      "outputs": [
        {
          "output_type": "stream",
          "text": [
            "Fri May 14 11:47:29 2021       \n",
            "+-----------------------------------------------------------------------------+\n",
            "| NVIDIA-SMI 465.19.01    Driver Version: 460.32.03    CUDA Version: 11.2     |\n",
            "|-------------------------------+----------------------+----------------------+\n",
            "| GPU  Name        Persistence-M| Bus-Id        Disp.A | Volatile Uncorr. ECC |\n",
            "| Fan  Temp  Perf  Pwr:Usage/Cap|         Memory-Usage | GPU-Util  Compute M. |\n",
            "|                               |                      |               MIG M. |\n",
            "|===============================+======================+======================|\n",
            "|   0  Tesla T4            Off  | 00000000:00:04.0 Off |                    0 |\n",
            "| N/A   41C    P8     9W /  70W |      0MiB / 15109MiB |      0%      Default |\n",
            "|                               |                      |                  N/A |\n",
            "+-------------------------------+----------------------+----------------------+\n",
            "                                                                               \n",
            "+-----------------------------------------------------------------------------+\n",
            "| Processes:                                                                  |\n",
            "|  GPU   GI   CI        PID   Type   Process name                  GPU Memory |\n",
            "|        ID   ID                                                   Usage      |\n",
            "|=============================================================================|\n",
            "|  No running processes found                                                 |\n",
            "+-----------------------------------------------------------------------------+\n"
          ],
          "name": "stdout"
        }
      ]
    },
    {
      "cell_type": "code",
      "metadata": {
        "id": "1upJ0InTBfYQ"
      },
      "source": [
        "import numpy as np\n",
        "import torch\n",
        "from torch import nn\n",
        "\n",
        "import wandb\n",
        "\n",
        "from tqdm.notebook import tqdm\n",
        "\n",
        "from drive.MyDrive.Diploma.environment import KGEnv\n",
        "from drive.MyDrive.Diploma.utils import LabelSmoothingCrossEntropy, load_config\n",
        "from drive.MyDrive.Diploma.dataset import KGDataset\n",
        "from drive.MyDrive.Diploma.train_emb import train_emb, evaluate_emb\n",
        "from drive.MyDrive.Diploma.beam_search import get_ranks\n",
        "from drive.MyDrive.Diploma.embed_model import ComplEx\n",
        "from drive.MyDrive.Diploma.metrics import *\n",
        "\n",
        "from drive.MyDrive.Diploma.load_config import config\n",
        "\n",
        "%load_ext autoreload\n",
        "%autoreload 2\n",
        "\n",
        "device = torch.device('cuda' if torch.cuda.is_available() else 'cpu')"
      ],
      "execution_count": null,
      "outputs": []
    },
    {
      "cell_type": "code",
      "metadata": {
        "id": "eh4LA_RUjYkV"
      },
      "source": [
        "env = KGEnv(config['train_triplets_path'])\n",
        "\n",
        "entities_num = env.entities_num\n",
        "relations_num = env.relations_num"
      ],
      "execution_count": null,
      "outputs": []
    },
    {
      "cell_type": "code",
      "metadata": {
        "id": "jJS7EkcXs_gI"
      },
      "source": [
        "train_env = KGEnv(config['train_triplets_path'])\n",
        "test_env = KGEnv(config['test_triplets_path'], train=False)\n",
        "\n",
        "emb_model = ComplEx(entities_num, relations_num, hid_dim=256).to(device)\n",
        "optimizer = torch.optim.Adam(emb_model.parameters(), lr=0.001)\n",
        "criterion = LabelSmoothingCrossEntropy() "
      ],
      "execution_count": null,
      "outputs": []
    },
    {
      "cell_type": "code",
      "metadata": {
        "id": "NQoYpfjTxw1Q"
      },
      "source": [
        "wandb.init(project=\"RL4KGQA\", name=\"Embed model\")"
      ],
      "execution_count": null,
      "outputs": []
    },
    {
      "cell_type": "code",
      "metadata": {
        "id": "CKuQtEZZDNEa"
      },
      "source": [
        "np.random.shuffle(train_env.triplets)\n",
        "np.random.shuffle(test_env.triplets)"
      ],
      "execution_count": null,
      "outputs": []
    },
    {
      "cell_type": "code",
      "metadata": {
        "id": "H4LJZ2qNlmEb",
        "colab": {
          "base_uri": "https://localhost:8080/",
          "height": 66,
          "referenced_widgets": [
            "2430d8a45736459bb5dc7be5e160af2a",
            "a348d281a88e4ac8bbc3e5da2019f1cb",
            "0bf3e57be54a47909676800877f69054",
            "23666737bd14478fb9cffa3dfc802c94",
            "939836c3ee4148adbdfbaf73af8e4f09",
            "d05f3865fe7c43b3b5ce8ae840504326",
            "8d2b829b4e044fba87a49f1dd0aa4541",
            "be55de154a8249d285aff76bf6482526"
          ]
        },
        "outputId": "fe9cef5f-2d0b-49d4-a918-f9f0b0ea3511"
      },
      "source": [
        "for epoch in tqdm(range(config['num_epochs'])):\n",
        "    train_loss, train_accuracy, train_ranks = train_emb(\n",
        "        emb_model, train_env.triplets, optimizer, criterion, batch_size=128\n",
        "    )\n",
        "    test_loss, test_accuracy, test_ranks = evaluate_emb(\n",
        "        emb_model, test_env.triplets, criterion, batch_size=64\n",
        "    )\n",
        "\n",
        "    wandb.log({\"Train CE loss\": train_loss,\n",
        "               \"Train accuracy\": train_accuracy,\n",
        "               \"Test CE loss\": test_loss,\n",
        "               \"Test accuracy\": test_accuracy,\n",
        "               \"Train MMR\": mmr(train_ranks),\n",
        "               \"Test MMR\": mmr(test_ranks),\n",
        "               \"Train HIT@10\": hit_k(train_ranks, k=10),\n",
        "               \"Test HIT@10\": hit_k(test_ranks, k=10)})"
      ],
      "execution_count": null,
      "outputs": [
        {
          "output_type": "display_data",
          "data": {
            "application/vnd.jupyter.widget-view+json": {
              "model_id": "2430d8a45736459bb5dc7be5e160af2a",
              "version_minor": 0,
              "version_major": 2
            },
            "text/plain": [
              "HBox(children=(FloatProgress(value=0.0, max=200.0), HTML(value='')))"
            ]
          },
          "metadata": {
            "tags": []
          }
        },
        {
          "output_type": "stream",
          "text": [
            "\n"
          ],
          "name": "stdout"
        }
      ]
    },
    {
      "cell_type": "code",
      "metadata": {
        "id": "-WA5FEWiziYq"
      },
      "source": [
        "loss, accuracy, ranks = evaluate_emb(\n",
        "        emb_model, test_env.triplets, criterion, batch_size=256\n",
        ")"
      ],
      "execution_count": null,
      "outputs": []
    },
    {
      "cell_type": "code",
      "metadata": {
        "colab": {
          "base_uri": "https://localhost:8080/"
        },
        "id": "sc_uJiywL3Ip",
        "outputId": "b9f8fb97-7a5e-4218-feb3-dfe32c0569f3"
      },
      "source": [
        "print('Test  | HIT@1: {:.3},\\t HIT@10: {:.3},\\t MMR: {:.3}'.format(\n",
        "    hit_k(ranks, k=1), hit_k(ranks, k=10), mmr(ranks)\n",
        "))"
      ],
      "execution_count": null,
      "outputs": [
        {
          "output_type": "stream",
          "text": [
            "Test  | HIT@1: 0.219,\t HIT@10: 0.853,\t MMR: 0.411\n"
          ],
          "name": "stdout"
        }
      ]
    }
  ]
}