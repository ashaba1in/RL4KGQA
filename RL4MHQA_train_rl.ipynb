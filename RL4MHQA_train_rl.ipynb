{
  "nbformat": 4,
  "nbformat_minor": 0,
  "metadata": {
    "colab": {
      "name": "RL4MHQA_train_rl.ipynb",
      "provenance": [],
      "collapsed_sections": []
    },
    "kernelspec": {
      "name": "python3",
      "display_name": "Python 3"
    },
    "language_info": {
      "name": "python"
    },
    "accelerator": "GPU",
    "widgets": {
      "application/vnd.jupyter.widget-state+json": {
        "0ee55cba70b54e3897a4b466b8410b69": {
          "model_module": "@jupyter-widgets/controls",
          "model_name": "HBoxModel",
          "state": {
            "_view_name": "HBoxView",
            "_dom_classes": [],
            "_model_name": "HBoxModel",
            "_view_module": "@jupyter-widgets/controls",
            "_model_module_version": "1.5.0",
            "_view_count": null,
            "_view_module_version": "1.5.0",
            "box_style": "",
            "layout": "IPY_MODEL_b55e7159f3aa4b3b9c0edef492488b1c",
            "_model_module": "@jupyter-widgets/controls",
            "children": [
              "IPY_MODEL_57ff0d16132044b789ef1eaf106eb1ca",
              "IPY_MODEL_84e44effec534a6d8cee0eab4e4785ed"
            ]
          }
        },
        "b55e7159f3aa4b3b9c0edef492488b1c": {
          "model_module": "@jupyter-widgets/base",
          "model_name": "LayoutModel",
          "state": {
            "_view_name": "LayoutView",
            "grid_template_rows": null,
            "right": null,
            "justify_content": null,
            "_view_module": "@jupyter-widgets/base",
            "overflow": null,
            "_model_module_version": "1.2.0",
            "_view_count": null,
            "flex_flow": null,
            "width": null,
            "min_width": null,
            "border": null,
            "align_items": null,
            "bottom": null,
            "_model_module": "@jupyter-widgets/base",
            "top": null,
            "grid_column": null,
            "overflow_y": null,
            "overflow_x": null,
            "grid_auto_flow": null,
            "grid_area": null,
            "grid_template_columns": null,
            "flex": null,
            "_model_name": "LayoutModel",
            "justify_items": null,
            "grid_row": null,
            "max_height": null,
            "align_content": null,
            "visibility": null,
            "align_self": null,
            "height": null,
            "min_height": null,
            "padding": null,
            "grid_auto_rows": null,
            "grid_gap": null,
            "max_width": null,
            "order": null,
            "_view_module_version": "1.2.0",
            "grid_template_areas": null,
            "object_position": null,
            "object_fit": null,
            "grid_auto_columns": null,
            "margin": null,
            "display": null,
            "left": null
          }
        },
        "57ff0d16132044b789ef1eaf106eb1ca": {
          "model_module": "@jupyter-widgets/controls",
          "model_name": "FloatProgressModel",
          "state": {
            "_view_name": "ProgressView",
            "style": "IPY_MODEL_3a7ec9e1de5e45f488908e107d44a905",
            "_dom_classes": [],
            "description": "100%",
            "_model_name": "FloatProgressModel",
            "bar_style": "success",
            "max": 100,
            "_view_module": "@jupyter-widgets/controls",
            "_model_module_version": "1.5.0",
            "value": 100,
            "_view_count": null,
            "_view_module_version": "1.5.0",
            "orientation": "horizontal",
            "min": 0,
            "description_tooltip": null,
            "_model_module": "@jupyter-widgets/controls",
            "layout": "IPY_MODEL_a10368f710be42cdae196da12ad5dadb"
          }
        },
        "84e44effec534a6d8cee0eab4e4785ed": {
          "model_module": "@jupyter-widgets/controls",
          "model_name": "HTMLModel",
          "state": {
            "_view_name": "HTMLView",
            "style": "IPY_MODEL_ecb77e3957024492a47853b408bacfb8",
            "_dom_classes": [],
            "description": "",
            "_model_name": "HTMLModel",
            "placeholder": "​",
            "_view_module": "@jupyter-widgets/controls",
            "_model_module_version": "1.5.0",
            "value": " 100/100 [13:51&lt;00:00,  8.31s/it]",
            "_view_count": null,
            "_view_module_version": "1.5.0",
            "description_tooltip": null,
            "_model_module": "@jupyter-widgets/controls",
            "layout": "IPY_MODEL_c876a3e818b44639822d838ffa02150b"
          }
        },
        "3a7ec9e1de5e45f488908e107d44a905": {
          "model_module": "@jupyter-widgets/controls",
          "model_name": "ProgressStyleModel",
          "state": {
            "_view_name": "StyleView",
            "_model_name": "ProgressStyleModel",
            "description_width": "initial",
            "_view_module": "@jupyter-widgets/base",
            "_model_module_version": "1.5.0",
            "_view_count": null,
            "_view_module_version": "1.2.0",
            "bar_color": null,
            "_model_module": "@jupyter-widgets/controls"
          }
        },
        "a10368f710be42cdae196da12ad5dadb": {
          "model_module": "@jupyter-widgets/base",
          "model_name": "LayoutModel",
          "state": {
            "_view_name": "LayoutView",
            "grid_template_rows": null,
            "right": null,
            "justify_content": null,
            "_view_module": "@jupyter-widgets/base",
            "overflow": null,
            "_model_module_version": "1.2.0",
            "_view_count": null,
            "flex_flow": null,
            "width": null,
            "min_width": null,
            "border": null,
            "align_items": null,
            "bottom": null,
            "_model_module": "@jupyter-widgets/base",
            "top": null,
            "grid_column": null,
            "overflow_y": null,
            "overflow_x": null,
            "grid_auto_flow": null,
            "grid_area": null,
            "grid_template_columns": null,
            "flex": null,
            "_model_name": "LayoutModel",
            "justify_items": null,
            "grid_row": null,
            "max_height": null,
            "align_content": null,
            "visibility": null,
            "align_self": null,
            "height": null,
            "min_height": null,
            "padding": null,
            "grid_auto_rows": null,
            "grid_gap": null,
            "max_width": null,
            "order": null,
            "_view_module_version": "1.2.0",
            "grid_template_areas": null,
            "object_position": null,
            "object_fit": null,
            "grid_auto_columns": null,
            "margin": null,
            "display": null,
            "left": null
          }
        },
        "ecb77e3957024492a47853b408bacfb8": {
          "model_module": "@jupyter-widgets/controls",
          "model_name": "DescriptionStyleModel",
          "state": {
            "_view_name": "StyleView",
            "_model_name": "DescriptionStyleModel",
            "description_width": "",
            "_view_module": "@jupyter-widgets/base",
            "_model_module_version": "1.5.0",
            "_view_count": null,
            "_view_module_version": "1.2.0",
            "_model_module": "@jupyter-widgets/controls"
          }
        },
        "c876a3e818b44639822d838ffa02150b": {
          "model_module": "@jupyter-widgets/base",
          "model_name": "LayoutModel",
          "state": {
            "_view_name": "LayoutView",
            "grid_template_rows": null,
            "right": null,
            "justify_content": null,
            "_view_module": "@jupyter-widgets/base",
            "overflow": null,
            "_model_module_version": "1.2.0",
            "_view_count": null,
            "flex_flow": null,
            "width": null,
            "min_width": null,
            "border": null,
            "align_items": null,
            "bottom": null,
            "_model_module": "@jupyter-widgets/base",
            "top": null,
            "grid_column": null,
            "overflow_y": null,
            "overflow_x": null,
            "grid_auto_flow": null,
            "grid_area": null,
            "grid_template_columns": null,
            "flex": null,
            "_model_name": "LayoutModel",
            "justify_items": null,
            "grid_row": null,
            "max_height": null,
            "align_content": null,
            "visibility": null,
            "align_self": null,
            "height": null,
            "min_height": null,
            "padding": null,
            "grid_auto_rows": null,
            "grid_gap": null,
            "max_width": null,
            "order": null,
            "_view_module_version": "1.2.0",
            "grid_template_areas": null,
            "object_position": null,
            "object_fit": null,
            "grid_auto_columns": null,
            "margin": null,
            "display": null,
            "left": null
          }
        },
        "173b418dcce449a89116cae2567ce516": {
          "model_module": "@jupyter-widgets/controls",
          "model_name": "HBoxModel",
          "state": {
            "_view_name": "HBoxView",
            "_dom_classes": [],
            "_model_name": "HBoxModel",
            "_view_module": "@jupyter-widgets/controls",
            "_model_module_version": "1.5.0",
            "_view_count": null,
            "_view_module_version": "1.5.0",
            "box_style": "",
            "layout": "IPY_MODEL_a5c90df06c1d4544aaac443ad5bfaa98",
            "_model_module": "@jupyter-widgets/controls",
            "children": [
              "IPY_MODEL_053799008c444822930a9d1f28f81ecf",
              "IPY_MODEL_b95b9f2463d447419f69a1386229a21b"
            ]
          }
        },
        "a5c90df06c1d4544aaac443ad5bfaa98": {
          "model_module": "@jupyter-widgets/base",
          "model_name": "LayoutModel",
          "state": {
            "_view_name": "LayoutView",
            "grid_template_rows": null,
            "right": null,
            "justify_content": null,
            "_view_module": "@jupyter-widgets/base",
            "overflow": null,
            "_model_module_version": "1.2.0",
            "_view_count": null,
            "flex_flow": null,
            "width": null,
            "min_width": null,
            "border": null,
            "align_items": null,
            "bottom": null,
            "_model_module": "@jupyter-widgets/base",
            "top": null,
            "grid_column": null,
            "overflow_y": null,
            "overflow_x": null,
            "grid_auto_flow": null,
            "grid_area": null,
            "grid_template_columns": null,
            "flex": null,
            "_model_name": "LayoutModel",
            "justify_items": null,
            "grid_row": null,
            "max_height": null,
            "align_content": null,
            "visibility": null,
            "align_self": null,
            "height": null,
            "min_height": null,
            "padding": null,
            "grid_auto_rows": null,
            "grid_gap": null,
            "max_width": null,
            "order": null,
            "_view_module_version": "1.2.0",
            "grid_template_areas": null,
            "object_position": null,
            "object_fit": null,
            "grid_auto_columns": null,
            "margin": null,
            "display": null,
            "left": null
          }
        },
        "053799008c444822930a9d1f28f81ecf": {
          "model_module": "@jupyter-widgets/controls",
          "model_name": "FloatProgressModel",
          "state": {
            "_view_name": "ProgressView",
            "style": "IPY_MODEL_57ef6d8f7965456da03e2eebaabf8b4c",
            "_dom_classes": [],
            "description": "100%",
            "_model_name": "FloatProgressModel",
            "bar_style": "success",
            "max": 100,
            "_view_module": "@jupyter-widgets/controls",
            "_model_module_version": "1.5.0",
            "value": 100,
            "_view_count": null,
            "_view_module_version": "1.5.0",
            "orientation": "horizontal",
            "min": 0,
            "description_tooltip": null,
            "_model_module": "@jupyter-widgets/controls",
            "layout": "IPY_MODEL_9d9e361770eb4b3f8bd1a5665a297af8"
          }
        },
        "b95b9f2463d447419f69a1386229a21b": {
          "model_module": "@jupyter-widgets/controls",
          "model_name": "HTMLModel",
          "state": {
            "_view_name": "HTMLView",
            "style": "IPY_MODEL_17e1734c2c594d42b29aea4b733f5b80",
            "_dom_classes": [],
            "description": "",
            "_model_name": "HTMLModel",
            "placeholder": "​",
            "_view_module": "@jupyter-widgets/controls",
            "_model_module_version": "1.5.0",
            "value": " 100/100 [16:42&lt;00:00, 10.03s/it]",
            "_view_count": null,
            "_view_module_version": "1.5.0",
            "description_tooltip": null,
            "_model_module": "@jupyter-widgets/controls",
            "layout": "IPY_MODEL_fb5092fa655d484dbccb6f201c91bf1c"
          }
        },
        "57ef6d8f7965456da03e2eebaabf8b4c": {
          "model_module": "@jupyter-widgets/controls",
          "model_name": "ProgressStyleModel",
          "state": {
            "_view_name": "StyleView",
            "_model_name": "ProgressStyleModel",
            "description_width": "initial",
            "_view_module": "@jupyter-widgets/base",
            "_model_module_version": "1.5.0",
            "_view_count": null,
            "_view_module_version": "1.2.0",
            "bar_color": null,
            "_model_module": "@jupyter-widgets/controls"
          }
        },
        "9d9e361770eb4b3f8bd1a5665a297af8": {
          "model_module": "@jupyter-widgets/base",
          "model_name": "LayoutModel",
          "state": {
            "_view_name": "LayoutView",
            "grid_template_rows": null,
            "right": null,
            "justify_content": null,
            "_view_module": "@jupyter-widgets/base",
            "overflow": null,
            "_model_module_version": "1.2.0",
            "_view_count": null,
            "flex_flow": null,
            "width": null,
            "min_width": null,
            "border": null,
            "align_items": null,
            "bottom": null,
            "_model_module": "@jupyter-widgets/base",
            "top": null,
            "grid_column": null,
            "overflow_y": null,
            "overflow_x": null,
            "grid_auto_flow": null,
            "grid_area": null,
            "grid_template_columns": null,
            "flex": null,
            "_model_name": "LayoutModel",
            "justify_items": null,
            "grid_row": null,
            "max_height": null,
            "align_content": null,
            "visibility": null,
            "align_self": null,
            "height": null,
            "min_height": null,
            "padding": null,
            "grid_auto_rows": null,
            "grid_gap": null,
            "max_width": null,
            "order": null,
            "_view_module_version": "1.2.0",
            "grid_template_areas": null,
            "object_position": null,
            "object_fit": null,
            "grid_auto_columns": null,
            "margin": null,
            "display": null,
            "left": null
          }
        },
        "17e1734c2c594d42b29aea4b733f5b80": {
          "model_module": "@jupyter-widgets/controls",
          "model_name": "DescriptionStyleModel",
          "state": {
            "_view_name": "StyleView",
            "_model_name": "DescriptionStyleModel",
            "description_width": "",
            "_view_module": "@jupyter-widgets/base",
            "_model_module_version": "1.5.0",
            "_view_count": null,
            "_view_module_version": "1.2.0",
            "_model_module": "@jupyter-widgets/controls"
          }
        },
        "fb5092fa655d484dbccb6f201c91bf1c": {
          "model_module": "@jupyter-widgets/base",
          "model_name": "LayoutModel",
          "state": {
            "_view_name": "LayoutView",
            "grid_template_rows": null,
            "right": null,
            "justify_content": null,
            "_view_module": "@jupyter-widgets/base",
            "overflow": null,
            "_model_module_version": "1.2.0",
            "_view_count": null,
            "flex_flow": null,
            "width": null,
            "min_width": null,
            "border": null,
            "align_items": null,
            "bottom": null,
            "_model_module": "@jupyter-widgets/base",
            "top": null,
            "grid_column": null,
            "overflow_y": null,
            "overflow_x": null,
            "grid_auto_flow": null,
            "grid_area": null,
            "grid_template_columns": null,
            "flex": null,
            "_model_name": "LayoutModel",
            "justify_items": null,
            "grid_row": null,
            "max_height": null,
            "align_content": null,
            "visibility": null,
            "align_self": null,
            "height": null,
            "min_height": null,
            "padding": null,
            "grid_auto_rows": null,
            "grid_gap": null,
            "max_width": null,
            "order": null,
            "_view_module_version": "1.2.0",
            "grid_template_areas": null,
            "object_position": null,
            "object_fit": null,
            "grid_auto_columns": null,
            "margin": null,
            "display": null,
            "left": null
          }
        }
      }
    }
  },
  "cells": [
    {
      "cell_type": "code",
      "metadata": {
        "id": "MQKCKs6W50xv"
      },
      "source": [
        "! pip install -r drive/MyDrive/Diploma/requirements.txt >& /dev/null"
      ],
      "execution_count": null,
      "outputs": []
    },
    {
      "cell_type": "code",
      "metadata": {
        "id": "-Zegly_co5ch",
        "colab": {
          "base_uri": "https://localhost:8080/"
        },
        "outputId": "b08a515e-2332-4884-d8a1-37b55b58d5c8"
      },
      "source": [
        "! nvidia-smi"
      ],
      "execution_count": null,
      "outputs": [
        {
          "output_type": "stream",
          "text": [
            "Mon May 17 13:51:30 2021       \n",
            "+-----------------------------------------------------------------------------+\n",
            "| NVIDIA-SMI 465.19.01    Driver Version: 460.32.03    CUDA Version: 11.2     |\n",
            "|-------------------------------+----------------------+----------------------+\n",
            "| GPU  Name        Persistence-M| Bus-Id        Disp.A | Volatile Uncorr. ECC |\n",
            "| Fan  Temp  Perf  Pwr:Usage/Cap|         Memory-Usage | GPU-Util  Compute M. |\n",
            "|                               |                      |               MIG M. |\n",
            "|===============================+======================+======================|\n",
            "|   0  Tesla T4            Off  | 00000000:00:04.0 Off |                    0 |\n",
            "| N/A   42C    P8    10W /  70W |      0MiB / 15109MiB |      0%      Default |\n",
            "|                               |                      |                  N/A |\n",
            "+-------------------------------+----------------------+----------------------+\n",
            "                                                                               \n",
            "+-----------------------------------------------------------------------------+\n",
            "| Processes:                                                                  |\n",
            "|  GPU   GI   CI        PID   Type   Process name                  GPU Memory |\n",
            "|        ID   ID                                                   Usage      |\n",
            "|=============================================================================|\n",
            "|  No running processes found                                                 |\n",
            "+-----------------------------------------------------------------------------+\n"
          ],
          "name": "stdout"
        }
      ]
    },
    {
      "cell_type": "code",
      "metadata": {
        "id": "1upJ0InTBfYQ"
      },
      "source": [
        "import numpy as np\n",
        "import torch\n",
        "from torch import nn\n",
        "\n",
        "import wandb\n",
        "\n",
        "from tqdm.notebook import tqdm\n",
        "\n",
        "from drive.MyDrive.Diploma.environment import KGEnv\n",
        "from drive.MyDrive.Diploma.utils import create_model, load_config\n",
        "from drive.MyDrive.Diploma.dataset import KGDataset\n",
        "from drive.MyDrive.Diploma.train_rl import run_episode, train\n",
        "from drive.MyDrive.Diploma.beam_search import get_ranks\n",
        "from drive.MyDrive.Diploma.embed_model import ComplEx\n",
        "from drive.MyDrive.Diploma.metrics import *\n",
        "from drive.MyDrive.Diploma.model import GraphSearchPolicy\n",
        "\n",
        "from drive.MyDrive.Diploma.load_config import config\n",
        "\n",
        "%load_ext autoreload\n",
        "%autoreload 2\n",
        "\n",
        "device = torch.device('cuda' if torch.cuda.is_available() else 'cpu')"
      ],
      "execution_count": null,
      "outputs": []
    },
    {
      "cell_type": "code",
      "metadata": {
        "id": "NeVKmGvuuDKv",
        "colab": {
          "base_uri": "https://localhost:8080/"
        },
        "outputId": "70ec3192-882d-4949-9747-40d1f7268af0"
      },
      "source": [
        "config"
      ],
      "execution_count": null,
      "outputs": [
        {
          "output_type": "execute_result",
          "data": {
            "text/plain": [
              "{'add_reverse_relations': True,\n",
              " 'batch_size': 512,\n",
              " 'beam_size': 128,\n",
              " 'entities_file': 'drive/MyDrive/Diploma/fb15k-237/entities.txt',\n",
              " 'entropy_coef': 0.0,\n",
              " 'gamma': 0.99,\n",
              " 'len_penalty': True,\n",
              " 'lr': 0.0001,\n",
              " 'max_rollout': 20,\n",
              " 'normalize_reward': False,\n",
              " 'num_beam_steps': 10,\n",
              " 'num_epochs': 1000,\n",
              " 'num_rollouts': 100,\n",
              " 'only_relations': False,\n",
              " 'relations_file': 'drive/MyDrive/Diploma/fb15k-237/relations.txt',\n",
              " 'rl_method': 'REINFORCE',\n",
              " 'rs_coef': 0.2,\n",
              " 'seed': 2441406995705867619,\n",
              " 'static_relation': 'stop',\n",
              " 'test_triplets_path': 'drive/MyDrive/Diploma/fb15k-237/test.txt',\n",
              " 'train_triplets_path': 'drive/MyDrive/Diploma/fb15k-237/train.txt'}"
            ]
          },
          "metadata": {
            "tags": []
          },
          "execution_count": 2
        }
      ]
    },
    {
      "cell_type": "code",
      "metadata": {
        "id": "eh4LA_RUjYkV"
      },
      "source": [
        "env = KGEnv(config['train_triplets_path'])\n",
        "\n",
        "entities_num = env.entities_num\n",
        "relations_num = env.relations_num"
      ],
      "execution_count": null,
      "outputs": []
    },
    {
      "cell_type": "code",
      "metadata": {
        "id": "OujITOxEaLmx",
        "colab": {
          "base_uri": "https://localhost:8080/"
        },
        "outputId": "d4c534b0-4694-48e0-f574-25b8ff640295"
      },
      "source": [
        "emb_model = ComplEx(entities_num, relations_num, hid_dim=256).to(device)\n",
        "emb_model.load_state_dict(torch.load('drive/MyDrive/Diploma/models/emb_model_fb15k.pt'))"
      ],
      "execution_count": null,
      "outputs": [
        {
          "output_type": "execute_result",
          "data": {
            "text/plain": [
              "<All keys matched successfully>"
            ]
          },
          "metadata": {
            "tags": []
          },
          "execution_count": 5
        }
      ]
    },
    {
      "cell_type": "code",
      "metadata": {
        "id": "qgo27qzZhmcn"
      },
      "source": [
        "batch_size = config['batch_size']\n",
        "env = KGEnv(config['train_triplets_path'], batch_size=batch_size, emb_model=emb_model)\n",
        "\n",
        "agent = create_model(\n",
        "    entity_input_dim=env.entities_num + 1,  # pad\n",
        "    relation_input_dim=env.relations_num + 2,  # cls + pad\n",
        "    output_dim=env.relations_num,\n",
        "    entity_pad_idx=env.e_pad_idx,\n",
        "    relation_pad_idx=env.r_pad_idx,\n",
        "    hid_dim=128,\n",
        "    enc_pf_dim=256,\n",
        "    device=device\n",
        ")"
      ],
      "execution_count": null,
      "outputs": []
    },
    {
      "cell_type": "code",
      "metadata": {
        "id": "SsdX7F3_i4aZ"
      },
      "source": [
        "optimizer = torch.optim.Adam(agent.parameters(), lr=config['lr'])"
      ],
      "execution_count": null,
      "outputs": []
    },
    {
      "cell_type": "code",
      "metadata": {
        "id": "Ecpjo_0ixRmA",
        "colab": {
          "base_uri": "https://localhost:8080/",
          "height": 187
        },
        "outputId": "ac13d9bc-f682-47db-e988-32e4fc17f90d"
      },
      "source": [
        "wandb.init(project=\"RL4KGQA\", name=\"REINFORCE\")\n",
        "wandb.config.update(config)"
      ],
      "execution_count": null,
      "outputs": [
        {
          "output_type": "display_data",
          "data": {
            "application/javascript": [
              "\n",
              "        window._wandbApiKey = new Promise((resolve, reject) => {\n",
              "            function loadScript(url) {\n",
              "            return new Promise(function(resolve, reject) {\n",
              "                let newScript = document.createElement(\"script\");\n",
              "                newScript.onerror = reject;\n",
              "                newScript.onload = resolve;\n",
              "                document.body.appendChild(newScript);\n",
              "                newScript.src = url;\n",
              "            });\n",
              "            }\n",
              "            loadScript(\"https://cdn.jsdelivr.net/npm/postmate/build/postmate.min.js\").then(() => {\n",
              "            const iframe = document.createElement('iframe')\n",
              "            iframe.style.cssText = \"width:0;height:0;border:none\"\n",
              "            document.body.appendChild(iframe)\n",
              "            const handshake = new Postmate({\n",
              "                container: iframe,\n",
              "                url: 'https://wandb.ai/authorize'\n",
              "            });\n",
              "            const timeout = setTimeout(() => reject(\"Couldn't auto authenticate\"), 5000)\n",
              "            handshake.then(function(child) {\n",
              "                child.on('authorize', data => {\n",
              "                    clearTimeout(timeout)\n",
              "                    resolve(data)\n",
              "                });\n",
              "            });\n",
              "            })\n",
              "        });\n",
              "    "
            ],
            "text/plain": [
              "<IPython.core.display.Javascript object>"
            ]
          },
          "metadata": {
            "tags": []
          }
        },
        {
          "output_type": "stream",
          "text": [
            "\u001b[34m\u001b[1mwandb\u001b[0m: Appending key for api.wandb.ai to your netrc file: /root/.netrc\n",
            "\u001b[34m\u001b[1mwandb\u001b[0m: wandb version 0.10.30 is available!  To upgrade, please run:\n",
            "\u001b[34m\u001b[1mwandb\u001b[0m:  $ pip install wandb --upgrade\n"
          ],
          "name": "stderr"
        },
        {
          "output_type": "display_data",
          "data": {
            "text/html": [
              "\n",
              "                Tracking run with wandb version 0.10.28<br/>\n",
              "                Syncing run <strong style=\"color:#cdcd00\">REINFORCE fb15k-237</strong> to <a href=\"https://wandb.ai\" target=\"_blank\">Weights & Biases</a> <a href=\"https://docs.wandb.com/integrations/jupyter.html\" target=\"_blank\">(Documentation)</a>.<br/>\n",
              "                Project page: <a href=\"https://wandb.ai/ashabalin/RL4KGQA\" target=\"_blank\">https://wandb.ai/ashabalin/RL4KGQA</a><br/>\n",
              "                Run page: <a href=\"https://wandb.ai/ashabalin/RL4KGQA/runs/3zvhks9y\" target=\"_blank\">https://wandb.ai/ashabalin/RL4KGQA/runs/3zvhks9y</a><br/>\n",
              "                Run data is saved locally in <code>/content/wandb/run-20210517_135257-3zvhks9y</code><br/><br/>\n",
              "            "
            ],
            "text/plain": [
              "<IPython.core.display.HTML object>"
            ]
          },
          "metadata": {
            "tags": []
          }
        }
      ]
    },
    {
      "cell_type": "code",
      "metadata": {
        "id": "nQW2XWKDVDxN",
        "colab": {
          "base_uri": "https://localhost:8080/"
        },
        "outputId": "19cb7b30-37e5-420a-ef67-fff3db8f692d"
      },
      "source": [
        "torch.initial_seed()"
      ],
      "execution_count": null,
      "outputs": [
        {
          "output_type": "execute_result",
          "data": {
            "text/plain": [
              "569581447802162076"
            ]
          },
          "metadata": {
            "tags": []
          },
          "execution_count": 13
        }
      ]
    },
    {
      "cell_type": "code",
      "metadata": {
        "id": "D7zL90dTkb7L"
      },
      "source": [
        "train_env = KGEnv(config['train_triplets_path'], batch_size=1)\n",
        "test_env = KGEnv(config['test_triplets_path'], train=False, batch_size=1)"
      ],
      "execution_count": null,
      "outputs": []
    },
    {
      "cell_type": "code",
      "metadata": {
        "id": "UHWNU48Ki_vD"
      },
      "source": [
        "agent.train()\n",
        "\n",
        "for epoch in tqdm(range(config['num_epochs'])):\n",
        "    episod_info = run_episode(env, agent)\n",
        "    loss = train(agent, optimizer, episod_info)\n",
        "\n",
        "    if epoch % 500 == 499:\n",
        "        test_ranks = get_ranks(agent, train_env, test_env)\n",
        "        test_ranks = test_ranks[test_ranks != env.entities_num]\n",
        "        print(hit_k(test_ranks, k=1), hit_k(test_ranks, k=10), mmr(test_ranks))\n",
        "\n",
        "    flat_stops = [prob[0] for probs in episod_info['probs'] for prob in probs]\n",
        "    sum_reward = sum([r for reward in episod_info['rewards'] for r in reward])\n",
        "    wandb.log({\n",
        "        'Loss': loss,\n",
        "        'Accuracy': episod_info['num_correct'] / batch_size,\n",
        "        'Steps': episod_info['num_steps'],\n",
        "        'Mean steps': episod_info['mean_steps'],\n",
        "        'Stop_prob': sum(flat_stops) / len(flat_stops),\n",
        "        'Mean_reward': sum_reward / batch_size,\n",
        "        'Len_penalty': episod_info['len_pen']\n",
        "    })"
      ],
      "execution_count": null,
      "outputs": []
    },
    {
      "cell_type": "code",
      "metadata": {
        "id": "iSVMwFc2vvFF",
        "colab": {
          "base_uri": "https://localhost:8080/",
          "height": 116,
          "referenced_widgets": [
            "0ee55cba70b54e3897a4b466b8410b69",
            "b55e7159f3aa4b3b9c0edef492488b1c",
            "57ff0d16132044b789ef1eaf106eb1ca",
            "84e44effec534a6d8cee0eab4e4785ed",
            "3a7ec9e1de5e45f488908e107d44a905",
            "a10368f710be42cdae196da12ad5dadb",
            "ecb77e3957024492a47853b408bacfb8",
            "c876a3e818b44639822d838ffa02150b",
            "173b418dcce449a89116cae2567ce516",
            "a5c90df06c1d4544aaac443ad5bfaa98",
            "053799008c444822930a9d1f28f81ecf",
            "b95b9f2463d447419f69a1386229a21b",
            "57ef6d8f7965456da03e2eebaabf8b4c",
            "9d9e361770eb4b3f8bd1a5665a297af8",
            "17e1734c2c594d42b29aea4b733f5b80",
            "fb5092fa655d484dbccb6f201c91bf1c"
          ]
        },
        "outputId": "8010adb0-8b16-4187-dddf-ccfb35a304e2"
      },
      "source": [
        "train_ranks = get_ranks(agent, train_env, train_env)\n",
        "test_ranks = get_ranks(agent, train_env, test_env)"
      ],
      "execution_count": null,
      "outputs": [
        {
          "output_type": "display_data",
          "data": {
            "application/vnd.jupyter.widget-view+json": {
              "model_id": "0ee55cba70b54e3897a4b466b8410b69",
              "version_minor": 0,
              "version_major": 2
            },
            "text/plain": [
              "HBox(children=(FloatProgress(value=0.0), HTML(value='')))"
            ]
          },
          "metadata": {
            "tags": []
          }
        },
        {
          "output_type": "stream",
          "text": [
            "\n"
          ],
          "name": "stdout"
        },
        {
          "output_type": "display_data",
          "data": {
            "application/vnd.jupyter.widget-view+json": {
              "model_id": "173b418dcce449a89116cae2567ce516",
              "version_minor": 0,
              "version_major": 2
            },
            "text/plain": [
              "HBox(children=(FloatProgress(value=0.0), HTML(value='')))"
            ]
          },
          "metadata": {
            "tags": []
          }
        },
        {
          "output_type": "stream",
          "text": [
            "\n"
          ],
          "name": "stdout"
        }
      ]
    },
    {
      "cell_type": "code",
      "metadata": {
        "id": "xUMDOKrsulv_"
      },
      "source": [
        "train_ranks = train_ranks[train_ranks != env.entities_num]\n",
        "test_ranks = test_ranks[test_ranks != env.entities_num]"
      ],
      "execution_count": null,
      "outputs": []
    },
    {
      "cell_type": "code",
      "metadata": {
        "id": "1ZosmF-A_c9D"
      },
      "source": [
        "print('Train | HIT@1: {:.3},\\t HIT@10: {:.3},\\t MRR: {:.3}'.format(\n",
        "    hit_k(train_ranks, k=1), hit_k(train_ranks, k=10), mmr(train_ranks)\n",
        "))\n",
        "print('Test  | HIT@1: {:.3},\\t HIT@10: {:.3},\\t MRR: {:.3}'.format(\n",
        "    hit_k(test_ranks, k=1), hit_k(test_ranks, k=10), mmr(test_ranks)\n",
        "))"
      ],
      "execution_count": null,
      "outputs": []
    },
    {
      "cell_type": "code",
      "metadata": {
        "id": "isauOh2nENlJ"
      },
      "source": [
        ""
      ],
      "execution_count": null,
      "outputs": []
    }
  ]
}